{
 "cells": [
  {
   "cell_type": "code",
   "execution_count": 8,
   "metadata": {},
   "outputs": [],
   "source": [
    "import pandas as pd\n",
    "import numpy as np\n",
    "import jieba\n",
    "import multiprocessing\n",
    "import keras\n",
    "\n",
    "from gensim.models.word2vec import Word2Vec\n",
    "from gensim.corpora.dictionary import Dictionary\n",
    "from keras.preprocessing import sequence\n",
    "\n",
    "from sklearn.model_selection import train_test_split\n",
    "from keras.models import Sequential\n",
    "from keras.layers.embeddings import Embedding\n",
    "from keras.layers.recurrent import LSTM\n",
    "from keras.layers.core import Dense, Dropout,Activation\n",
    "from keras.models import model_from_yaml,load_model\n",
    "np.random.seed(1337)  # For Reproducibility\n",
    "import sys\n",
    "sys.setrecursionlimit(1000000)\n",
    "import yaml\n",
    "\n",
    "# set parameters:\n",
    "cpu_count = multiprocessing.cpu_count() # 4\n",
    "vocab_dim = 100     #词向量维度\n",
    "n_iterations = 1  # ideally more..\n",
    "n_exposures = 8 # 忽略所有频数小于10的词语\n",
    "window_size = 2 #一个句子中当前单词和被预测单词的最大距离。\n",
    "n_epoch = 4\n",
    "input_length = 100\n",
    "maxlen = 100\n",
    "\n",
    "batch_size = 32\n",
    "sen1 = pd.read_table('../data/1.txt',encoding='gbk',index_col=None)\n",
    "sen2 = pd.read_table('../data/2.txt', encoding='gbk',index_col=None)\n",
    "sen3 = pd.read_table('../data/3.txt', encoding='gbk',index_col=None)\n",
    "#三分类数据\n",
    "combined = np.concatenate((sen1['content'], sen2['content'], sen3['content']))\n",
    "# #三分类数据真值\n",
    "y = np.concatenate((np.ones(len(sen1), dtype=int), np.zeros(len(sen2), dtype=int),-1*np.ones(len(sen3), dtype=int)))"
   ]
  },
  {
   "cell_type": "code",
   "execution_count": 2,
   "metadata": {},
   "outputs": [
    {
     "name": "stderr",
     "output_type": "stream",
     "text": [
      "Building prefix dict from the default dictionary ...\n",
      "Loading model from cache C:\\Users\\sunhd13\\AppData\\Local\\Temp\\jieba.cache\n",
      "Loading model cost 0.774 seconds.\n",
      "Prefix dict has been built succesfully.\n"
     ]
    }
   ],
   "source": [
    "combined = [jieba.lcut(document.replace('\\n', '')) for document in combined]"
   ]
  },
  {
   "cell_type": "code",
   "execution_count": 3,
   "metadata": {},
   "outputs": [],
   "source": [
    "model = Word2Vec(sentences=combined,size=vocab_dim, min_count=n_exposures,window=window_size,workers=cpu_count,iter=n_iterations)\n",
    "model.save('../model/Word2vec_model.pkl')"
   ]
  },
  {
   "cell_type": "code",
   "execution_count": 4,
   "metadata": {},
   "outputs": [
    {
     "name": "stderr",
     "output_type": "stream",
     "text": [
      "d:\\python\\lib\\site-packages\\ipykernel_launcher.py:4: DeprecationWarning: Call to deprecated `__getitem__` (Method will be removed in 4.0.0, use self.wv.__getitem__() instead).\n",
      "  after removing the cwd from sys.path.\n",
      "d:\\python\\lib\\site-packages\\ipykernel_launcher.py:27: UserWarning: Update your `LSTM` call to the Keras 2 API: `LSTM(activation=\"tanh\", units=50)`\n",
      "d:\\python\\lib\\site-packages\\tensorflow_core\\python\\framework\\indexed_slices.py:424: UserWarning: Converting sparse IndexedSlices to a dense Tensor of unknown shape. This may consume a large amount of memory.\n",
      "  \"Converting sparse IndexedSlices to a dense Tensor of unknown shape. \"\n"
     ]
    },
    {
     "name": "stdout",
     "output_type": "stream",
     "text": [
      "Epoch 1/4\n",
      "15994/15994 [==============================] - 29s 2ms/step - loss: 0.5473 - accuracy: 0.7964\n",
      "Epoch 2/4\n",
      "15994/15994 [==============================] - 31s 2ms/step - loss: 0.3737 - accuracy: 0.8758\n",
      "Epoch 3/4\n",
      "15994/15994 [==============================] - 32s 2ms/step - loss: 0.2982 - accuracy: 0.9024\n",
      "Epoch 4/4\n",
      "15994/15994 [==============================] - 32s 2ms/step - loss: 0.2381 - accuracy: 0.9221\n"
     ]
    },
    {
     "data": {
      "text/plain": [
       "<keras.callbacks.callbacks.History at 0x199a0b6bdc8>"
      ]
     },
     "execution_count": 4,
     "metadata": {},
     "output_type": "execute_result"
    }
   ],
   "source": [
    "gensim_dict = Dictionary()\n",
    "gensim_dict.doc2bow(model.wv.vocab.keys(),allow_update=True)\n",
    "w2indx = {v: k+1 for k, v in gensim_dict.items()}#所有频数超过10的词语的索引,(k->v)=>(v->k)\n",
    "w2vec = {word: model[word] for word in w2indx.keys()}#所有频数超过10的词语的词向量, (word->model(word))\n",
    "data=[]\n",
    "for sentence in combined:\n",
    "    new_txt = []\n",
    "    for word in sentence:\n",
    "        try:\n",
    "            new_txt.append(w2indx[word])\n",
    "        except:\n",
    "            new_txt.append(0) # freqxiao10->0\n",
    "    data.append(new_txt)\n",
    "combined= sequence.pad_sequences(data, maxlen=maxlen)\n",
    "\n",
    "n_symbols = len(w2indx) + 1  # 所有单词的索引数，频数小于10的词语索引为0，所以加1\n",
    "embedding_weights = np.zeros((n_symbols, vocab_dim)) # 初始化 索引为0的词语，词向量全为0\n",
    "for word, index in w2indx.items(): # 从索引为1的词语开始，对每个词语对应其词向量\n",
    "    embedding_weights[index, :] = w2vec[word]\n",
    "\n",
    "x_train, x_test, y_train, y_test = train_test_split(combined, y, test_size=0.2)\n",
    "y_train = keras.utils.to_categorical(y_train,num_classes=3) \n",
    "\n",
    "model = Sequential()  # or Graph or whatever\n",
    "# Adding Input Length\n",
    "model.add(Embedding(output_dim=vocab_dim,input_dim=n_symbols,mask_zero=True,weights=[embedding_weights],input_length=input_length)) \n",
    "model.add(LSTM(output_dim=50, activation='tanh'))\n",
    "model.add(Dropout(0.5))\n",
    "model.add(Dense(3, activation='softmax')) # Dense=>全连接层,输出维度=3\n",
    "model.compile(loss='categorical_crossentropy',optimizer='adam',metrics=['accuracy'])\n",
    "model.fit(x_train, y_train, batch_size=batch_size, epochs=n_epoch,verbose=1)"
   ]
  },
  {
   "cell_type": "code",
   "execution_count": 5,
   "metadata": {},
   "outputs": [
    {
     "name": "stdout",
     "output_type": "stream",
     "text": [
      "3999/3999 [==============================] - 2s 409us/step\n",
      "Test score: [0.3310206898616892, 0.8847211599349976]\n"
     ]
    }
   ],
   "source": [
    "y_test = keras.utils.to_categorical(y_test,num_classes=3)\n",
    "score = model.evaluate(x_test, y_test,batch_size=batch_size)\n",
    "print ('Test score:', score)"
   ]
  },
  {
   "cell_type": "code",
   "execution_count": 6,
   "metadata": {},
   "outputs": [],
   "source": [
    "# yaml_string = model.to_yaml()\n",
    "# with open('../model/lstm.yml', 'w') as outfile:\n",
    "#     outfile.write(yaml.dump(yaml_string) )\n",
    "# model.save_weights('../model/lstm.h5')\n",
    "model.save('../model/lstm.h5')"
   ]
  },
  {
   "cell_type": "code",
   "execution_count": 11,
   "metadata": {},
   "outputs": [
    {
     "name": "stderr",
     "output_type": "stream",
     "text": [
      "d:\\python\\lib\\site-packages\\tensorflow_core\\python\\framework\\indexed_slices.py:424: UserWarning: Converting sparse IndexedSlices to a dense Tensor of unknown shape. This may consume a large amount of memory.\n",
      "  \"Converting sparse IndexedSlices to a dense Tensor of unknown shape. \"\n"
     ]
    },
    {
     "name": "stdout",
     "output_type": "stream",
     "text": [
      "<class 'numpy.ndarray'>\n",
      "联通牛  满意\n"
     ]
    },
    {
     "name": "stderr",
     "output_type": "stream",
     "text": [
      "d:\\python\\lib\\site-packages\\ipykernel_launcher.py:17: DeprecationWarning: Call to deprecated `__getitem__` (Method will be removed in 4.0.0, use self.wv.__getitem__() instead).\n"
     ]
    }
   ],
   "source": [
    "maxlen = 100\n",
    "\n",
    "def create_dictionaries(model=None,\n",
    "                        combined=None):\n",
    "    ''' Function does are number of Jobs:\n",
    "        1- Creates a word to index mapping\n",
    "        2- Creates a word to vector mapping\n",
    "        3- Transforms the Training and Testing Dictionaries\n",
    "\n",
    "    '''\n",
    "    if (combined is not None) and (model is not None):\n",
    "        gensim_dict = Dictionary()\n",
    "        gensim_dict.doc2bow(model.wv.vocab.keys(),\n",
    "                            allow_update=True)\n",
    "        #  freqxiao10->0 所以k+1\n",
    "        w2indx = {v: k+1 for k, v in gensim_dict.items()}#所有频数超过10的词语的索引,(k->v)=>(v->k)\n",
    "        w2vec = {word: model[word] for word in w2indx.keys()}#所有频数超过10的词语的词向量, (word->model(word))\n",
    "\n",
    "        def parse_dataset(combined): # 闭包-->临时使用\n",
    "            ''' Words become integers\n",
    "            '''\n",
    "            data=[]\n",
    "            for sentence in combined:\n",
    "                new_txt = []\n",
    "                for word in sentence:\n",
    "                    try:\n",
    "                        new_txt.append(w2indx[word])\n",
    "                    except:\n",
    "                        new_txt.append(0) # freqxiao10->0\n",
    "                data.append(new_txt)\n",
    "            return data # word=>index\n",
    "        combined=parse_dataset(combined)\n",
    "        combined= sequence.pad_sequences(combined, maxlen=maxlen)#每个句子所含词语对应的索引，所以句子中含有频数小于10的词语，索引为0\n",
    "        return w2indx, w2vec,combined\n",
    "    else:\n",
    "        print ('No data provided...')\n",
    "\n",
    "\n",
    "def input_transform(string):\n",
    "    words=jieba.lcut(string)\n",
    "    words=np.array(words).reshape(1,-1)\n",
    "    model=Word2Vec.load('../model/Word2vec_model.pkl')\n",
    "    _,_,combined=create_dictionaries(model,words)\n",
    "    return combined\n",
    "string = '联通牛'\n",
    "# with open('../model/lstm.yml', 'r') as f:\n",
    "#     yaml_string = yaml.load(f)\n",
    "# model = model_from_yaml(yaml_string)\n",
    "# model.load_weights('../model/lstm.h5')\n",
    "model = load_model('../model/lstm.h5')\n",
    "model.compile(loss='categorical_crossentropy',optimizer='adam',metrics=['accuracy'])\n",
    "data=input_transform(string)\n",
    "print(type(data))\n",
    "data.reshape(1,-1)\n",
    "result=model.predict_classes(data)\n",
    "if result[0]==1:\n",
    "    print (string,' 满意')\n",
    "else:\n",
    "    print (string,' 不满意')"
   ]
  },
  {
   "cell_type": "code",
   "execution_count": null,
   "metadata": {},
   "outputs": [],
   "source": []
  }
 ],
 "metadata": {
  "kernelspec": {
   "display_name": "Python 3",
   "language": "python",
   "name": "python3"
  },
  "language_info": {
   "codemirror_mode": {
    "name": "ipython",
    "version": 3
   },
   "file_extension": ".py",
   "mimetype": "text/x-python",
   "name": "python",
   "nbconvert_exporter": "python",
   "pygments_lexer": "ipython3",
   "version": "3.7.4"
  }
 },
 "nbformat": 4,
 "nbformat_minor": 1
}
